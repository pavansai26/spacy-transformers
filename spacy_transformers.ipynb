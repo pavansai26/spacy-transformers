{
  "nbformat": 4,
  "nbformat_minor": 0,
  "metadata": {
    "colab": {
      "name": "spacy transformers.ipynb",
      "provenance": [],
      "private_outputs": true,
      "authorship_tag": "ABX9TyO0PkntrSrMMXQI1OGRjl0t",
      "include_colab_link": true
    },
    "kernelspec": {
      "name": "python3",
      "display_name": "Python 3"
    },
    "accelerator": "GPU"
  },
  "cells": [
    {
      "cell_type": "markdown",
      "metadata": {
        "id": "view-in-github",
        "colab_type": "text"
      },
      "source": [
        "<a href=\"https://colab.research.google.com/github/pavansai26/spacy-transformers/blob/master/spacy_transformers.ipynb\" target=\"_parent\"><img src=\"https://colab.research.google.com/assets/colab-badge.svg\" alt=\"Open In Colab\"/></a>"
      ]
    },
    {
      "cell_type": "code",
      "metadata": {
        "id": "7yZG0FnaW7Jt",
        "colab_type": "code",
        "colab": {}
      },
      "source": [
        "import spacy.cli\n",
        "import torch\n",
        "import numpy"
      ],
      "execution_count": 0,
      "outputs": []
    },
    {
      "cell_type": "code",
      "metadata": {
        "id": "BdmL1-aaXHmQ",
        "colab_type": "code",
        "colab": {}
      },
      "source": [
        "spacy.cli.download('en_trf_bertbaseuncased_lg')\n"
      ],
      "execution_count": 0,
      "outputs": []
    },
    {
      "cell_type": "code",
      "metadata": {
        "id": "vIgu_82PXZaT",
        "colab_type": "code",
        "colab": {}
      },
      "source": [
        "!pip install spacy-transformers\n",
        "!python -m spacy download en_trf_bertbaseuncased_lg\n",
        "# after this you need to restart runtime"
      ],
      "execution_count": 0,
      "outputs": []
    },
    {
      "cell_type": "code",
      "metadata": {
        "id": "7W-Jc2xuXq7w",
        "colab_type": "code",
        "colab": {}
      },
      "source": [
        "import spacy\n",
        "nlp = spacy.load(\"en_trf_bertbaseuncased_lg\")"
      ],
      "execution_count": 0,
      "outputs": []
    },
    {
      "cell_type": "code",
      "metadata": {
        "id": "MAsB_QswZQFT",
        "colab_type": "code",
        "colab": {}
      },
      "source": [
        "print(nlp.pipe_names)"
      ],
      "execution_count": 0,
      "outputs": []
    },
    {
      "cell_type": "code",
      "metadata": {
        "id": "GvR25VhBao3J",
        "colab_type": "code",
        "colab": {}
      },
      "source": [
        "print(nlp.pipe_labels)"
      ],
      "execution_count": 0,
      "outputs": []
    },
    {
      "cell_type": "code",
      "metadata": {
        "id": "kohWLHDlasxa",
        "colab_type": "code",
        "colab": {}
      },
      "source": [
        "print(nlp.pipe_factories)"
      ],
      "execution_count": 0,
      "outputs": []
    },
    {
      "cell_type": "code",
      "metadata": {
        "id": "3qdhtK7ga2W3",
        "colab_type": "code",
        "colab": {}
      },
      "source": [
        "doc = nlp('transformer encoder decoder')"
      ],
      "execution_count": 0,
      "outputs": []
    },
    {
      "cell_type": "code",
      "metadata": {
        "id": "NI6YFDASbHG-",
        "colab_type": "code",
        "colab": {}
      },
      "source": [
        "doc.tensor.shape"
      ],
      "execution_count": 0,
      "outputs": []
    },
    {
      "cell_type": "code",
      "metadata": {
        "id": "bzmQK8xWbLcI",
        "colab_type": "code",
        "colab": {}
      },
      "source": [
        "print(doc._.trf_word_pieces_)"
      ],
      "execution_count": 0,
      "outputs": []
    },
    {
      "cell_type": "code",
      "metadata": {
        "id": "zUg4p3J-bXvG",
        "colab_type": "code",
        "colab": {}
      },
      "source": [
        "print(doc._.trf_alignment)"
      ],
      "execution_count": 0,
      "outputs": []
    },
    {
      "cell_type": "code",
      "metadata": {
        "id": "MNaQgNCWb8jN",
        "colab_type": "code",
        "colab": {}
      },
      "source": [
        "print(doc._.trf_all_hidden_states)"
      ],
      "execution_count": 0,
      "outputs": []
    },
    {
      "cell_type": "code",
      "metadata": {
        "id": "UvFj0sybcHeO",
        "colab_type": "code",
        "colab": {}
      },
      "source": [
        "text1 = nlp('i went to river bank for evening walk')\n",
        "text2 = nlp('i went to deposit rs 1000 in my bank account')\n",
        "text3 = nlp('i went to river bank for morning walk')\n",
        "text4 = nlp('i went to withdraw rs 1000 from my bank account')"
      ],
      "execution_count": 0,
      "outputs": []
    },
    {
      "cell_type": "code",
      "metadata": {
        "id": "yVhjvthqeoiM",
        "colab_type": "code",
        "colab": {}
      },
      "source": [
        "print(text1[4].similarity(text2[8]))"
      ],
      "execution_count": 0,
      "outputs": []
    },
    {
      "cell_type": "code",
      "metadata": {
        "id": "OhA9EV2keuag",
        "colab_type": "code",
        "colab": {}
      },
      "source": [
        "print(text1[4].similarity(text3[4]))"
      ],
      "execution_count": 0,
      "outputs": []
    },
    {
      "cell_type": "code",
      "metadata": {
        "id": "GLW0QIPFe8bb",
        "colab_type": "code",
        "colab": {}
      },
      "source": [
        "print(text1[4].similarity(text4[8]))\n"
      ],
      "execution_count": 0,
      "outputs": []
    },
    {
      "cell_type": "code",
      "metadata": {
        "id": "Q9adD0JifAGL",
        "colab_type": "code",
        "colab": {}
      },
      "source": [
        "print(text2[8].similarity(text4[8]))"
      ],
      "execution_count": 0,
      "outputs": []
    },
    {
      "cell_type": "code",
      "metadata": {
        "id": "TtJYK17BfD2_",
        "colab_type": "code",
        "colab": {}
      },
      "source": [
        "print(text1.similarity(text2))"
      ],
      "execution_count": 0,
      "outputs": []
    },
    {
      "cell_type": "code",
      "metadata": {
        "id": "KN99qVwHft6M",
        "colab_type": "code",
        "colab": {}
      },
      "source": [
        "print(text1.similarity(text3))"
      ],
      "execution_count": 0,
      "outputs": []
    },
    {
      "cell_type": "code",
      "metadata": {
        "id": "IOMJpbHVfySE",
        "colab_type": "code",
        "colab": {}
      },
      "source": [
        "\n",
        "print(text1.similarity(text4))"
      ],
      "execution_count": 0,
      "outputs": []
    },
    {
      "cell_type": "code",
      "metadata": {
        "id": "GCDuPwlAf6M-",
        "colab_type": "code",
        "colab": {}
      },
      "source": [
        "print(text2.similarity(text4))"
      ],
      "execution_count": 0,
      "outputs": []
    },
    {
      "cell_type": "code",
      "metadata": {
        "id": "ZmieGLmQgBLE",
        "colab_type": "code",
        "colab": {}
      },
      "source": [
        ""
      ],
      "execution_count": 0,
      "outputs": []
    }
  ]
}